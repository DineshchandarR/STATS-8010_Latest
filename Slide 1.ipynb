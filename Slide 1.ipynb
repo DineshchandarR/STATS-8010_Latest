{
 "cells": [
  {
   "cell_type": "markdown",
   "id": "99d3e14b-8e4d-4163-86bf-61195b478f87",
   "metadata": {},
   "source": [
    "## Mean, Median and Mode"
   ]
  },
  {
   "cell_type": "code",
   "execution_count": 1,
   "id": "2de8aa1d-7059-4853-9710-7392b72413c1",
   "metadata": {},
   "outputs": [],
   "source": [
    "import statistics as stat\n",
    "import math\n",
    "import numpy as np"
   ]
  },
  {
   "cell_type": "code",
   "execution_count": 2,
   "id": "b06f7092-85e7-4b56-9cc7-b70999bd4ffb",
   "metadata": {},
   "outputs": [
    {
     "data": {
      "text/plain": [
       "(array([384, 472, 496, 503, 527, 548, 549, 654, 783, 850]), 10)"
      ]
     },
     "execution_count": 2,
     "metadata": {},
     "output_type": "execute_result"
    }
   ],
   "source": [
    "ogi_data = [384,472,496,503,527,548,549,654,783,850]\n",
    "data = np.array(ogi_data)\n",
    "data = np.sort(data)\n",
    "N = len(data)\n",
    "data,N"
   ]
  },
  {
   "cell_type": "code",
   "execution_count": 4,
   "id": "3e38fae0-a9eb-4817-94c2-d74f558d7be5",
   "metadata": {},
   "outputs": [
    {
     "data": {
      "text/plain": [
       "(array([384, 472, 496, 503, 527, 548, 549, 654, 783, 850]), 576, 537.5)"
      ]
     },
     "execution_count": 4,
     "metadata": {},
     "output_type": "execute_result"
    }
   ],
   "source": [
    "mean = stat.mean(data) # Mean\n",
    "median = stat.median(data) # Median\n",
    "\n",
    "data,mean, median"
   ]
  },
  {
   "cell_type": "code",
   "execution_count": 14,
   "id": "1bdaef5c-6761-44ae-8eb3-9894e90b9c31",
   "metadata": {},
   "outputs": [
    {
     "data": {
      "text/plain": [
       "576.6"
      ]
     },
     "execution_count": 14,
     "metadata": {},
     "output_type": "execute_result"
    }
   ],
   "source": [
    "np.sum(data)/N"
   ]
  },
  {
   "cell_type": "code",
   "execution_count": 12,
   "id": "b0c75da2-9ff7-4f3f-9689-a24edb671518",
   "metadata": {},
   "outputs": [
    {
     "data": {
      "text/plain": [
       "(22512.944444444445, 150.04314194405703)"
      ]
     },
     "execution_count": 12,
     "metadata": {},
     "output_type": "execute_result"
    }
   ],
   "source": [
    "#sample variance\n",
    "n = []\n",
    "for i in data:\n",
    "    s = (i-537.5)**2\n",
    "    n.append(s)\n",
    "v = np.sum(n)/(N-1) #sample variance\n",
    "s = np.sqrt(v) #std deviation\n",
    "v,s"
   ]
  },
  {
   "cell_type": "code",
   "execution_count": 6,
   "id": "deab38a4-1bfe-4d62-a14d-4c933b4c6919",
   "metadata": {},
   "outputs": [
    {
     "data": {
      "text/plain": [
       "2.3538266716136937"
      ]
     },
     "execution_count": 6,
     "metadata": {},
     "output_type": "execute_result"
    }
   ],
   "source": [
    "#pop std deviation\n",
    "stat.stdev(data)"
   ]
  },
  {
   "cell_type": "markdown",
   "id": "13439443-58c5-4466-9aaf-7c40e5fb0019",
   "metadata": {},
   "source": [
    "### IQR\n",
    "To find Q value if no.of sample is even, (sum 2 values)/2, and incase of odd sample values pick the middle val.\n",
    "Q1 = left half point value before median on the ogi_data\n",
    "Q3 = right half point value after median on the ogi_data\n",
    "IQR = Q3-Q1"
   ]
  },
  {
   "cell_type": "code",
   "execution_count": 8,
   "id": "099bce0c-2e2c-42ef-b667-36f5935820bc",
   "metadata": {},
   "outputs": [
    {
     "data": {
      "text/plain": [
       "(497.75, 627.75, 130.0)"
      ]
     },
     "execution_count": 8,
     "metadata": {},
     "output_type": "execute_result"
    }
   ],
   "source": [
    "#calculate interquartile range \n",
    "q3, q1 = np.percentile(data, [75,25])\n",
    "iqr = q3 - q1\n",
    "\n",
    "q1,q3,iqr"
   ]
  },
  {
   "cell_type": "code",
   "execution_count": 7,
   "id": "ae886120-15bd-4ac5-b3f7-361573bdeece",
   "metadata": {},
   "outputs": [
    {
     "data": {
      "text/plain": [
       "(158, 466)"
      ]
     },
     "execution_count": 7,
     "metadata": {},
     "output_type": "execute_result"
    }
   ],
   "source": [
    "# Q1 = (1.79+1.84)/2\n",
    "# Q3 = (2.12+2.18)/2\n",
    "Q1 = 496\n",
    "Q3 = 654\n",
    "IQR = Q3-Q1\n",
    "range_val = data[-1]-data[0]\n",
    "IQR,range_val"
   ]
  },
  {
   "cell_type": "code",
   "execution_count": null,
   "id": "6a87127c-2c0b-42ea-a497-7fcb1b833d01",
   "metadata": {},
   "outputs": [],
   "source": []
  },
  {
   "cell_type": "code",
   "execution_count": null,
   "id": "b12f0225-c809-4c56-820b-6f09d75cd3b1",
   "metadata": {},
   "outputs": [],
   "source": []
  }
 ],
 "metadata": {
  "kernelspec": {
   "display_name": "Python 3 (ipykernel)",
   "language": "python",
   "name": "python3"
  },
  "language_info": {
   "codemirror_mode": {
    "name": "ipython",
    "version": 3
   },
   "file_extension": ".py",
   "mimetype": "text/x-python",
   "name": "python",
   "nbconvert_exporter": "python",
   "pygments_lexer": "ipython3",
   "version": "3.9.7"
  }
 },
 "nbformat": 4,
 "nbformat_minor": 5
}
