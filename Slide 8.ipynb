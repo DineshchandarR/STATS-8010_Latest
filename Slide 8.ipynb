{
 "cells": [
  {
   "cell_type": "markdown",
   "id": "1051a1f2-6597-43ab-95c1-3a81a9e3906c",
   "metadata": {},
   "source": [
    "## Comparing more than 2 population means"
   ]
  },
  {
   "cell_type": "markdown",
   "id": "c9e0dc38-21e9-4c43-bc7a-316f71f34337",
   "metadata": {
    "tags": []
   },
   "source": [
    "#### 3 Samples"
   ]
  },
  {
   "cell_type": "code",
   "execution_count": 1,
   "id": "cb79ae12-14bf-4faf-8574-2f8159e43dcc",
   "metadata": {},
   "outputs": [],
   "source": [
    "import pandas as pd\n",
    "import numpy as np"
   ]
  },
  {
   "cell_type": "markdown",
   "id": "a196d2c7-22b1-4a41-aff1-7c719fb9fc54",
   "metadata": {},
   "source": [
    "#### Replace columns with columns from other population\n",
    "- Compare the ssw and ssb values"
   ]
  },
  {
   "cell_type": "code",
   "execution_count": 34,
   "id": "e6e559b9-b6a5-4223-bac6-1d05ca06a09e",
   "metadata": {},
   "outputs": [],
   "source": [
    "t = 3 # no_of_samples \n",
    "t_records = 15\n",
    "a = [.35, .40, .58, .50, .47]\n",
    "b = [.65, .70, .90, .84, .79]\n",
    "c = [.60, .80, .75, .73, .66]"
   ]
  },
  {
   "cell_type": "code",
   "execution_count": 35,
   "id": "b17d9542-ec0b-47f6-bd1d-f65174d84d52",
   "metadata": {},
   "outputs": [
    {
     "name": "stdout",
     "output_type": "stream",
     "text": [
      "M1: 0.45999999999999996\n",
      "M2 0.776\n",
      "M3 0.708\n",
      "M: 0.648\n"
     ]
    }
   ],
   "source": [
    "m1=np.mean(a)\n",
    "print('M1:',m1)\n",
    "m2=np.mean(b)\n",
    "print('M2',m2)\n",
    "m3=np.mean(c)\n",
    "print('M3',m3)\n",
    "m=(m1+m2+m3)/t\n",
    "\n",
    "print('M:',m)"
   ]
  },
  {
   "cell_type": "code",
   "execution_count": 36,
   "id": "cd7f2957-4c84-47ae-9c06-fcb450cfd574",
   "metadata": {},
   "outputs": [
    {
     "name": "stdout",
     "output_type": "stream",
     "text": [
      "SSB: 0.27664000000000005\n",
      "S2b: 0.13832000000000003\n"
     ]
    }
   ],
   "source": [
    "S2b = ((len(a) * (m1-m)**2) + (len(b) * (m2-m)**2) + (len(c) * (m3-m)**2)) / (t - 1) #incase of 3 set\n",
    "SSb = S2b * (t-1)\n",
    "print('SSB:',SSb)\n",
    "print('S2b:',S2b) # Same as MSB"
   ]
  },
  {
   "cell_type": "code",
   "execution_count": 37,
   "id": "7a319785-1b47-4ddc-8015-98ec5132e53d",
   "metadata": {},
   "outputs": [
    {
     "name": "stdout",
     "output_type": "stream",
     "text": [
      "SSW: 0.0978\n",
      "S2w: 0.00815\n"
     ]
    }
   ],
   "source": [
    "dof = (t_records) - t\n",
    "err_a = list(a-m1)\n",
    "err_b = list(b-m2)\n",
    "err_c = list(c-m3)\n",
    "\n",
    "err = err_a+err_b+err_c\n",
    "ssw=[]\n",
    "for i in err:\n",
    "    ssw.append(i**2)\n",
    "    \n",
    "S2w = np.sum(ssw) / dof\n",
    "SSw = S2w * dof\n",
    "\n",
    "print('SSW:',SSw)\n",
    "print('S2w:',S2w) #same as MSW"
   ]
  },
  {
   "cell_type": "code",
   "execution_count": 38,
   "id": "ed4bcfc6-76a0-4e45-bdfd-6c95306bc0f5",
   "metadata": {},
   "outputs": [
    {
     "data": {
      "text/plain": [
       "16.9717791411043"
      ]
     },
     "execution_count": 38,
     "metadata": {},
     "output_type": "execute_result"
    }
   ],
   "source": [
    "fobs = S2b / S2w\n",
    "fobs"
   ]
  },
  {
   "cell_type": "code",
   "execution_count": 39,
   "id": "f78f7e1c-163a-4cb9-8398-bac3c3bbeb21",
   "metadata": {},
   "outputs": [],
   "source": [
    "ddf = (t_records) - t\n",
    "ndf = t - 1\n",
    "alpha = 0.05"
   ]
  },
  {
   "cell_type": "code",
   "execution_count": 40,
   "id": "a6d80aa3-6626-4662-a691-941cd7106f8b",
   "metadata": {},
   "outputs": [
    {
     "data": {
      "text/plain": [
       "3.8852938346523933"
      ]
     },
     "execution_count": 40,
     "metadata": {},
     "output_type": "execute_result"
    }
   ],
   "source": [
    "from scipy.stats import f\n",
    "import scipy\n",
    "\n",
    "scipy.stats.f.ppf(1 - alpha, ndf, ddf)"
   ]
  },
  {
   "cell_type": "markdown",
   "id": "49ca4a2e-aaa8-4ac8-8f83-d6ac89740aea",
   "metadata": {},
   "source": [
    "### If fobs > f reject H0"
   ]
  },
  {
   "cell_type": "markdown",
   "id": "060807c0-ed0b-4757-b832-3d485bbb3689",
   "metadata": {},
   "source": [
    "#### Example 2: 4 Sample"
   ]
  },
  {
   "cell_type": "code",
   "execution_count": 11,
   "id": "6c5e7eb7-693e-4833-a148-295e6ee5c0be",
   "metadata": {},
   "outputs": [],
   "source": [
    "t = 4 # no_of_samples \n",
    "t_records = 10\n",
    "a = [11, 9]\n",
    "b = [7, 8, 9]\n",
    "c = [6, 5, 7]\n",
    "d = [5, 3]"
   ]
  },
  {
   "cell_type": "code",
   "execution_count": 12,
   "id": "05cef720-a149-4e9f-ac04-70097a64bcd0",
   "metadata": {},
   "outputs": [
    {
     "name": "stdout",
     "output_type": "stream",
     "text": [
      "M1: 10.0\n",
      "M2: 8.0\n",
      "M3: 6.0\n",
      "M4 4.0\n",
      "M: 7.0\n"
     ]
    }
   ],
   "source": [
    "m1=np.mean(a)\n",
    "print('M1:',m1)\n",
    "m2=np.mean(b)\n",
    "print('M2:',m2)\n",
    "m3=np.mean(c)\n",
    "print('M3:',m3)\n",
    "m4=np.mean(d)\n",
    "print('M4',m4)\n",
    "m=(m1+m2+m3+m4)/t\n",
    "m\n",
    "print('M:',m)"
   ]
  },
  {
   "cell_type": "code",
   "execution_count": 13,
   "id": "96e507a4-d565-4506-b3f3-fae586aa493f",
   "metadata": {},
   "outputs": [
    {
     "name": "stdout",
     "output_type": "stream",
     "text": [
      "SSB: 42.0\n",
      "S2b: 14.0\n"
     ]
    }
   ],
   "source": [
    "S2b = ((len(a) * (m1-m)**2) + (len(b) * (m2-m)**2) + (len(c) * (m3-m)**2) + (len(d) * (m4-m)**2)) / (t - 1)\n",
    "SSb = S2b * (t-1)\n",
    "print('SSB:',SSb)\n",
    "print('S2b:',S2b) # Same as MSB"
   ]
  },
  {
   "cell_type": "code",
   "execution_count": 14,
   "id": "262a44cd-e518-4ec4-ae5d-dd69af5091a8",
   "metadata": {},
   "outputs": [],
   "source": [
    "#if given in question\n",
    "SSB = 5564.9\n",
    "SST = 227.1\n",
    "TSS =  975.5"
   ]
  },
  {
   "cell_type": "code",
   "execution_count": 15,
   "id": "b6985ecc-5899-4b35-9142-4d9784a0ec20",
   "metadata": {},
   "outputs": [
    {
     "name": "stdout",
     "output_type": "stream",
     "text": [
      "SSw: 8.0\n",
      "S2w: 1.3333333333333333\n"
     ]
    }
   ],
   "source": [
    "dof = (t_records) - t\n",
    "err_a = list(a - m1)\n",
    "err_b = list(b - m2)\n",
    "err_c = list(c - m3)\n",
    "err_d = list(d - m4)\n",
    "err = err_a + err_b + err_c + err_d\n",
    "ssw = []\n",
    "for i in err:\n",
    "    ssw.append(i**2)\n",
    "\n",
    "S2w = np.sum(ssw) / dof\n",
    "SSw = S2w * dof\n",
    "\n",
    "print('SSw:',SSw)\n",
    "print('S2w:',S2w) #same as MSW"
   ]
  },
  {
   "cell_type": "code",
   "execution_count": 16,
   "id": "594fd790-1c6d-4e2d-9f47-be78883938b0",
   "metadata": {},
   "outputs": [
    {
     "data": {
      "text/plain": [
       "50.0"
      ]
     },
     "execution_count": 16,
     "metadata": {},
     "output_type": "execute_result"
    }
   ],
   "source": [
    "TSS = SSw + SSb\n",
    "TSS"
   ]
  },
  {
   "cell_type": "code",
   "execution_count": 17,
   "id": "93b1eb77-f3b6-46be-9f6f-686a59261f1a",
   "metadata": {},
   "outputs": [
    {
     "data": {
      "text/plain": [
       "10.5"
      ]
     },
     "execution_count": 17,
     "metadata": {},
     "output_type": "execute_result"
    }
   ],
   "source": [
    "f = S2b / S2w\n",
    "f"
   ]
  },
  {
   "cell_type": "code",
   "execution_count": 18,
   "id": "db9925b8-2642-462c-b959-1fdd2b176d07",
   "metadata": {},
   "outputs": [
    {
     "data": {
      "text/plain": [
       "4.757062663089414"
      ]
     },
     "execution_count": 18,
     "metadata": {},
     "output_type": "execute_result"
    }
   ],
   "source": [
    "ddf = (t_records) - t\n",
    "ndf = t - 1\n",
    "alpha = 0.05\n",
    "\n",
    "from scipy.stats import f\n",
    "import scipy\n",
    "\n",
    "scipy.stats.f.ppf(1 - alpha, ndf, ddf)"
   ]
  },
  {
   "cell_type": "code",
   "execution_count": null,
   "id": "50410269-fab8-4876-81fa-ce399e4c1dc2",
   "metadata": {},
   "outputs": [],
   "source": []
  }
 ],
 "metadata": {
  "kernelspec": {
   "display_name": "Python 3 (ipykernel)",
   "language": "python",
   "name": "python3"
  },
  "language_info": {
   "codemirror_mode": {
    "name": "ipython",
    "version": 3
   },
   "file_extension": ".py",
   "mimetype": "text/x-python",
   "name": "python",
   "nbconvert_exporter": "python",
   "pygments_lexer": "ipython3",
   "version": "3.9.7"
  }
 },
 "nbformat": 4,
 "nbformat_minor": 5
}
